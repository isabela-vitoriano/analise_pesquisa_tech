{
 "cells": [
  {
   "cell_type": "markdown",
   "metadata": {
    "application/vnd.databricks.v1+cell": {
     "cellMetadata": {},
     "inputWidgets": {},
     "nuid": "f09b8285-4fbb-4e78-bb6f-1b3cbaf51fc7",
     "showTitle": false,
     "title": ""
    }
   },
   "source": [
    "## Visão geral da base"
   ]
  },
  {
   "cell_type": "code",
   "execution_count": 0,
   "metadata": {
    "application/vnd.databricks.v1+cell": {
     "cellMetadata": {
      "byteLimit": 2048000,
      "implicitDf": true,
      "rowLimit": 10000
     },
     "inputWidgets": {},
     "nuid": "01d0c54b-9034-49ca-bf28-2ccd13034b06",
     "showTitle": false,
     "title": ""
    }
   },
   "outputs": [
    {
     "output_type": "display_data",
     "data": {
      "text/html": [
       "<style scoped>\n",
       "  .table-result-container {\n",
       "    max-height: 300px;\n",
       "    overflow: auto;\n",
       "  }\n",
       "  table, th, td {\n",
       "    border: 1px solid black;\n",
       "    border-collapse: collapse;\n",
       "  }\n",
       "  th, td {\n",
       "    padding: 5px;\n",
       "  }\n",
       "  th {\n",
       "    text-align: left;\n",
       "  }\n",
       "</style><div class='table-result-container'><table class='table-result'><thead style='background-color: white'><tr><th>Age</th><th>Gender</th><th>EducationLevel</th><th>HouseholdIncome</th><th>Frequency_LaptopDesktop</th><th>Frequency_Smartphone</th><th>Frequency_Tablet</th><th>Frequency_SmartHomeDevices</th><th>Frequency_WearableDevices</th><th>Frequency_GamingConsoles</th><th>Frequency_HomeSecuritySystem</th><th>LikelinessToAdopt</th><th>Benefit_ProductivityEfficiency</th><th>Benefit_CommunicationConnectivity</th><th>Benefit_EasyAccessToInfo</th><th>Benefit_Entertainment</th><th>Risk_SecurityPrivacy</th><th>Risk_ExcessScreenTime</th><th>Risk_ComplicatedToUse</th><th>Risk_Addiction</th><th>Risk_Health</th><th>Risk_LossOfConnection</th><th>Influence_FamilyFriends</th><th>Influence_PromoActivities</th><th>Influence_SocialPopularity</th><th>Influence_ExpertRecommendation</th><th>Influence_Endorsements</th><th>Barrier_HighPrice</th><th>Barrier_TechKnowledge</th><th>Barrier_PrivacySecurity</th><th>Barrier_ReliableInternet</th><th>Barrier_ChangeReluctance</th><th>LikelinessToRecommend</th></tr></thead><tbody><tr><td>25</td><td>Female</td><td>Bachelor's Degree</td><td>1500000</td><td>4</td><td>5</td><td>0</td><td>4</td><td>0</td><td>0</td><td>0</td><td>3</td><td>4</td><td>4</td><td>5</td><td>5</td><td>4</td><td>4</td><td>4</td><td>4</td><td>4</td><td>3</td><td>5</td><td>3</td><td>5</td><td>4</td><td>2</td><td>3</td><td>4</td><td>4</td><td>3</td><td>4</td><td>4</td></tr><tr><td>48</td><td>Female</td><td>Bachelor's Degree</td><td>800000</td><td>3</td><td>5</td><td>5</td><td>4</td><td>5</td><td>2</td><td>3</td><td>4</td><td>5</td><td>5</td><td>5</td><td>5</td><td>4</td><td>3</td><td>2</td><td>2</td><td>2</td><td>4</td><td>4</td><td>4</td><td>4</td><td>4</td><td>2</td><td>2</td><td>4</td><td>4</td><td>4</td><td>4</td><td>5</td></tr><tr><td>49</td><td>Male</td><td>Master's Degree</td><td>30000000</td><td>4</td><td>4</td><td>0</td><td>2</td><td>0</td><td>0</td><td>0</td><td>4</td><td>4</td><td>4</td><td>4</td><td>4</td><td>5</td><td>5</td><td>4</td><td>4</td><td>5</td><td>5</td><td>3</td><td>3</td><td>3</td><td>3</td><td>1</td><td>5</td><td>5</td><td>5</td><td>3</td><td>4</td><td>3</td></tr><tr><td>38</td><td>Male</td><td>Bachelor's Degree</td><td>20000</td><td>1</td><td>0</td><td>1</td><td>1</td><td>1</td><td>2</td><td>1</td><td>3</td><td>1</td><td>2</td><td>1</td><td>2</td><td>1</td><td>2</td><td>2</td><td>1</td><td>2</td><td>3</td><td>3</td><td>2</td><td>3</td><td>3</td><td>2</td><td>1</td><td>3</td><td>2</td><td>3</td><td>2</td><td>3</td></tr><tr><td>45</td><td>Male</td><td>Bachelor's Degree</td><td>5000000</td><td>5</td><td>5</td><td>3</td><td>5</td><td>5</td><td>0</td><td>0</td><td>5</td><td>5</td><td>5</td><td>5</td><td>5</td><td>3</td><td>3</td><td>3</td><td>2</td><td>3</td><td>4</td><td>3</td><td>3</td><td>3</td><td>3</td><td>3</td><td>3</td><td>3</td><td>3</td><td>3</td><td>3</td><td>5</td></tr><tr><td>45</td><td>Female</td><td>Bachelor's Degree</td><td>1200000</td><td>4</td><td>4</td><td>3</td><td>4</td><td>4</td><td>2</td><td>2</td><td>5</td><td>4</td><td>4</td><td>4</td><td>4</td><td>4</td><td>5</td><td>5</td><td>5</td><td>5</td><td>5</td><td>3</td><td>3</td><td>4</td><td>4</td><td>3</td><td>3</td><td>3</td><td>3</td><td>3</td><td>3</td><td>5</td></tr><tr><td>47</td><td>Male</td><td>Doctorate</td><td>5000000</td><td>5</td><td>5</td><td>4</td><td>4</td><td>4</td><td>3</td><td>3</td><td>4</td><td>4</td><td>4</td><td>4</td><td>4</td><td>5</td><td>4</td><td>3</td><td>4</td><td>3</td><td>4</td><td>4</td><td>4</td><td>4</td><td>4</td><td>4</td><td>5</td><td>5</td><td>5</td><td>4</td><td>5</td><td>5</td></tr><tr><td>55</td><td>Female</td><td>Bachelor's Degree</td><td>60000</td><td>1</td><td>0</td><td>1</td><td>0</td><td>1</td><td>2</td><td>1</td><td>4</td><td>3</td><td>3</td><td>3</td><td>3</td><td>3</td><td>3</td><td>3</td><td>3</td><td>3</td><td>3</td><td>3</td><td>3</td><td>3</td><td>3</td><td>3</td><td>3</td><td>4</td><td>4</td><td>4</td><td>4</td><td>4</td></tr><tr><td>49</td><td>Male</td><td>Master's Degree</td><td>600000</td><td>0</td><td>0</td><td>1</td><td>1</td><td>1</td><td>1</td><td>0</td><td>1</td><td>4</td><td>4</td><td>4</td><td>4</td><td>1</td><td>2</td><td>2</td><td>2</td><td>2</td><td>2</td><td>4</td><td>4</td><td>4</td><td>4</td><td>4</td><td>2</td><td>4</td><td>3</td><td>4</td><td>1</td><td>5</td></tr><tr><td>41</td><td>Male</td><td>Master's Degree</td><td>800000</td><td>0</td><td>0</td><td>0</td><td>0</td><td>0</td><td>2</td><td>1</td><td>2</td><td>3</td><td>2</td><td>3</td><td>3</td><td>2</td><td>2</td><td>2</td><td>2</td><td>2</td><td>3</td><td>1</td><td>1</td><td>1</td><td>1</td><td>1</td><td>2</td><td>3</td><td>3</td><td>2</td><td>3</td><td>5</td></tr></tbody></table></div>"
      ]
     },
     "metadata": {
      "application/vnd.databricks.v1+output": {
       "addedWidgets": {},
       "aggData": [],
       "aggError": "",
       "aggOverflow": false,
       "aggSchema": [],
       "aggSeriesLimitReached": false,
       "aggType": "",
       "arguments": {},
       "columnCustomDisplayInfos": {},
       "data": [
        [
         "25",
         "Female",
         "Bachelor's Degree",
         "1500000",
         "4",
         "5",
         "0",
         "4",
         "0",
         "0",
         "0",
         "3",
         "4",
         "4",
         "5",
         "5",
         "4",
         "4",
         "4",
         "4",
         "4",
         "3",
         "5",
         "3",
         "5",
         "4",
         "2",
         "3",
         "4",
         "4",
         "3",
         "4",
         "4"
        ],
        [
         "48",
         "Female",
         "Bachelor's Degree",
         "800000",
         "3",
         "5",
         "5",
         "4",
         "5",
         "2",
         "3",
         "4",
         "5",
         "5",
         "5",
         "5",
         "4",
         "3",
         "2",
         "2",
         "2",
         "4",
         "4",
         "4",
         "4",
         "4",
         "2",
         "2",
         "4",
         "4",
         "4",
         "4",
         "5"
        ],
        [
         "49",
         "Male",
         "Master's Degree",
         "30000000",
         "4",
         "4",
         "0",
         "2",
         "0",
         "0",
         "0",
         "4",
         "4",
         "4",
         "4",
         "4",
         "5",
         "5",
         "4",
         "4",
         "5",
         "5",
         "3",
         "3",
         "3",
         "3",
         "1",
         "5",
         "5",
         "5",
         "3",
         "4",
         "3"
        ],
        [
         "38",
         "Male",
         "Bachelor's Degree",
         "20000",
         "1",
         "0",
         "1",
         "1",
         "1",
         "2",
         "1",
         "3",
         "1",
         "2",
         "1",
         "2",
         "1",
         "2",
         "2",
         "1",
         "2",
         "3",
         "3",
         "2",
         "3",
         "3",
         "2",
         "1",
         "3",
         "2",
         "3",
         "2",
         "3"
        ],
        [
         "45",
         "Male",
         "Bachelor's Degree",
         "5000000",
         "5",
         "5",
         "3",
         "5",
         "5",
         "0",
         "0",
         "5",
         "5",
         "5",
         "5",
         "5",
         "3",
         "3",
         "3",
         "2",
         "3",
         "4",
         "3",
         "3",
         "3",
         "3",
         "3",
         "3",
         "3",
         "3",
         "3",
         "3",
         "5"
        ],
        [
         "45",
         "Female",
         "Bachelor's Degree",
         "1200000",
         "4",
         "4",
         "3",
         "4",
         "4",
         "2",
         "2",
         "5",
         "4",
         "4",
         "4",
         "4",
         "4",
         "5",
         "5",
         "5",
         "5",
         "5",
         "3",
         "3",
         "4",
         "4",
         "3",
         "3",
         "3",
         "3",
         "3",
         "3",
         "5"
        ],
        [
         "47",
         "Male",
         "Doctorate",
         "5000000",
         "5",
         "5",
         "4",
         "4",
         "4",
         "3",
         "3",
         "4",
         "4",
         "4",
         "4",
         "4",
         "5",
         "4",
         "3",
         "4",
         "3",
         "4",
         "4",
         "4",
         "4",
         "4",
         "4",
         "5",
         "5",
         "5",
         "4",
         "5",
         "5"
        ],
        [
         "55",
         "Female",
         "Bachelor's Degree",
         "60000",
         "1",
         "0",
         "1",
         "0",
         "1",
         "2",
         "1",
         "4",
         "3",
         "3",
         "3",
         "3",
         "3",
         "3",
         "3",
         "3",
         "3",
         "3",
         "3",
         "3",
         "3",
         "3",
         "3",
         "3",
         "4",
         "4",
         "4",
         "4",
         "4"
        ],
        [
         "49",
         "Male",
         "Master's Degree",
         "600000",
         "0",
         "0",
         "1",
         "1",
         "1",
         "1",
         "0",
         "1",
         "4",
         "4",
         "4",
         "4",
         "1",
         "2",
         "2",
         "2",
         "2",
         "2",
         "4",
         "4",
         "4",
         "4",
         "4",
         "2",
         "4",
         "3",
         "4",
         "1",
         "5"
        ],
        [
         "41",
         "Male",
         "Master's Degree",
         "800000",
         "0",
         "0",
         "0",
         "0",
         "0",
         "2",
         "1",
         "2",
         "3",
         "2",
         "3",
         "3",
         "2",
         "2",
         "2",
         "2",
         "2",
         "3",
         "1",
         "1",
         "1",
         "1",
         "1",
         "2",
         "3",
         "3",
         "2",
         "3",
         "5"
        ]
       ],
       "datasetInfos": [],
       "dbfsResultPath": null,
       "isJsonSchema": true,
       "metadata": {
        "isDbfsCommandResult": false
       },
       "overflow": false,
       "plotOptions": {
        "customPlotOptions": {},
        "displayType": "table",
        "pivotAggregation": null,
        "pivotColumns": null,
        "xColumns": null,
        "yColumns": null
       },
       "removedWidgets": [],
       "schema": [
        {
         "metadata": "{}",
         "name": "Age",
         "type": "\"string\""
        },
        {
         "metadata": "{}",
         "name": "Gender",
         "type": "\"string\""
        },
        {
         "metadata": "{}",
         "name": "EducationLevel",
         "type": "\"string\""
        },
        {
         "metadata": "{}",
         "name": "HouseholdIncome",
         "type": "\"string\""
        },
        {
         "metadata": "{}",
         "name": "Frequency_LaptopDesktop",
         "type": "\"string\""
        },
        {
         "metadata": "{}",
         "name": "Frequency_Smartphone",
         "type": "\"string\""
        },
        {
         "metadata": "{}",
         "name": "Frequency_Tablet",
         "type": "\"string\""
        },
        {
         "metadata": "{}",
         "name": "Frequency_SmartHomeDevices",
         "type": "\"string\""
        },
        {
         "metadata": "{}",
         "name": "Frequency_WearableDevices",
         "type": "\"string\""
        },
        {
         "metadata": "{}",
         "name": "Frequency_GamingConsoles",
         "type": "\"string\""
        },
        {
         "metadata": "{}",
         "name": "Frequency_HomeSecuritySystem",
         "type": "\"string\""
        },
        {
         "metadata": "{}",
         "name": "LikelinessToAdopt",
         "type": "\"string\""
        },
        {
         "metadata": "{}",
         "name": "Benefit_ProductivityEfficiency",
         "type": "\"string\""
        },
        {
         "metadata": "{}",
         "name": "Benefit_CommunicationConnectivity",
         "type": "\"string\""
        },
        {
         "metadata": "{}",
         "name": "Benefit_EasyAccessToInfo",
         "type": "\"string\""
        },
        {
         "metadata": "{}",
         "name": "Benefit_Entertainment",
         "type": "\"string\""
        },
        {
         "metadata": "{}",
         "name": "Risk_SecurityPrivacy",
         "type": "\"string\""
        },
        {
         "metadata": "{}",
         "name": "Risk_ExcessScreenTime",
         "type": "\"string\""
        },
        {
         "metadata": "{}",
         "name": "Risk_ComplicatedToUse",
         "type": "\"string\""
        },
        {
         "metadata": "{}",
         "name": "Risk_Addiction",
         "type": "\"string\""
        },
        {
         "metadata": "{}",
         "name": "Risk_Health",
         "type": "\"string\""
        },
        {
         "metadata": "{}",
         "name": "Risk_LossOfConnection",
         "type": "\"string\""
        },
        {
         "metadata": "{}",
         "name": "Influence_FamilyFriends",
         "type": "\"string\""
        },
        {
         "metadata": "{}",
         "name": "Influence_PromoActivities",
         "type": "\"string\""
        },
        {
         "metadata": "{}",
         "name": "Influence_SocialPopularity",
         "type": "\"string\""
        },
        {
         "metadata": "{}",
         "name": "Influence_ExpertRecommendation",
         "type": "\"string\""
        },
        {
         "metadata": "{}",
         "name": "Influence_Endorsements",
         "type": "\"string\""
        },
        {
         "metadata": "{}",
         "name": "Barrier_HighPrice",
         "type": "\"string\""
        },
        {
         "metadata": "{}",
         "name": "Barrier_TechKnowledge",
         "type": "\"string\""
        },
        {
         "metadata": "{}",
         "name": "Barrier_PrivacySecurity",
         "type": "\"string\""
        },
        {
         "metadata": "{}",
         "name": "Barrier_ReliableInternet",
         "type": "\"string\""
        },
        {
         "metadata": "{}",
         "name": "Barrier_ChangeReluctance",
         "type": "\"string\""
        },
        {
         "metadata": "{}",
         "name": "LikelinessToRecommend",
         "type": "\"string\""
        }
       ],
       "type": "table"
      }
     },
     "output_type": "display_data"
    }
   ],
   "source": [
    "%sql\n",
    "SELECT *\n",
    "FROM tb_survey\n",
    "LIMIT 10"
   ]
  },
  {
   "cell_type": "code",
   "execution_count": 0,
   "metadata": {
    "application/vnd.databricks.v1+cell": {
     "cellMetadata": {
      "byteLimit": 2048000,
      "rowLimit": 10000
     },
     "inputWidgets": {},
     "nuid": "b076b44a-7a81-4eb7-9f01-2804946064cd",
     "showTitle": false,
     "title": ""
    }
   },
   "outputs": [
    {
     "output_type": "display_data",
     "data": {
      "text/html": [
       "<style scoped>\n",
       "  .table-result-container {\n",
       "    max-height: 300px;\n",
       "    overflow: auto;\n",
       "  }\n",
       "  table, th, td {\n",
       "    border: 1px solid black;\n",
       "    border-collapse: collapse;\n",
       "  }\n",
       "  th, td {\n",
       "    padding: 5px;\n",
       "  }\n",
       "  th {\n",
       "    text-align: left;\n",
       "  }\n",
       "</style><div class='table-result-container'><table class='table-result'><thead style='background-color: white'><tr><th>linhas_totais</th></tr></thead><tbody><tr><td>107</td></tr></tbody></table></div>"
      ]
     },
     "metadata": {
      "application/vnd.databricks.v1+output": {
       "addedWidgets": {},
       "aggData": [],
       "aggError": "",
       "aggOverflow": false,
       "aggSchema": [],
       "aggSeriesLimitReached": false,
       "aggType": "",
       "arguments": {},
       "columnCustomDisplayInfos": {},
       "data": [
        [
         107
        ]
       ],
       "datasetInfos": [],
       "dbfsResultPath": null,
       "isJsonSchema": true,
       "metadata": {
        "isDbfsCommandResult": false
       },
       "overflow": false,
       "plotOptions": {
        "customPlotOptions": {},
        "displayType": "table",
        "pivotAggregation": null,
        "pivotColumns": null,
        "xColumns": null,
        "yColumns": null
       },
       "removedWidgets": [],
       "schema": [
        {
         "metadata": "{}",
         "name": "linhas_totais",
         "type": "\"long\""
        }
       ],
       "type": "table"
      }
     },
     "output_type": "display_data"
    }
   ],
   "source": [
    "%sql\n",
    "SELECT COUNT(*) as linhas_totais\n",
    "FROM tb_survey"
   ]
  },
  {
   "cell_type": "markdown",
   "metadata": {
    "application/vnd.databricks.v1+cell": {
     "cellMetadata": {
      "byteLimit": 2048000,
      "rowLimit": 10000
     },
     "inputWidgets": {},
     "nuid": "a9107a98-b1b4-41eb-ab1e-dab9390f6435",
     "showTitle": false,
     "title": ""
    }
   },
   "source": [
    "## Análise demográfica dos respondentes\n",
    "Nesta análise, examinamos algumas características demográficas dos respondentes da pesquisa, incluindo faixa etária, renda familiar, nível de educação e gênero. Vamos observar os principais insights obtidos a partir desses dados."
   ]
  },
  {
   "cell_type": "code",
   "execution_count": 0,
   "metadata": {
    "application/vnd.databricks.v1+cell": {
     "cellMetadata": {
      "byteLimit": 2048000,
      "implicitDf": true,
      "rowLimit": 10000
     },
     "inputWidgets": {},
     "nuid": "eef448ca-9298-4151-ba28-e6537b23e463",
     "showTitle": false,
     "title": ""
    }
   },
   "outputs": [
    {
     "output_type": "display_data",
     "data": {
      "text/html": [
       "<style scoped>\n",
       "  .table-result-container {\n",
       "    max-height: 300px;\n",
       "    overflow: auto;\n",
       "  }\n",
       "  table, th, td {\n",
       "    border: 1px solid black;\n",
       "    border-collapse: collapse;\n",
       "  }\n",
       "  th, td {\n",
       "    padding: 5px;\n",
       "  }\n",
       "  th {\n",
       "    text-align: left;\n",
       "  }\n",
       "</style><div class='table-result-container'><table class='table-result'><thead style='background-color: white'><tr><th>age</th><th>gender</th><th>EducationLevel</th></tr></thead><tbody><tr><td>25</td><td>Female</td><td>Bachelor's Degree</td></tr><tr><td>48</td><td>Female</td><td>Bachelor's Degree</td></tr><tr><td>49</td><td>Male</td><td>Master's Degree</td></tr><tr><td>38</td><td>Male</td><td>Bachelor's Degree</td></tr><tr><td>45</td><td>Male</td><td>Bachelor's Degree</td></tr><tr><td>45</td><td>Female</td><td>Bachelor's Degree</td></tr><tr><td>47</td><td>Male</td><td>Doctorate</td></tr><tr><td>55</td><td>Female</td><td>Bachelor's Degree</td></tr><tr><td>49</td><td>Male</td><td>Master's Degree</td></tr><tr><td>41</td><td>Male</td><td>Master's Degree</td></tr><tr><td>34</td><td>Male</td><td>Master's Degree</td></tr><tr><td>43</td><td>Male</td><td>Bachelor's Degree</td></tr><tr><td>41</td><td>Male</td><td>Bachelor's Degree</td></tr><tr><td>62</td><td>Male</td><td>Master's Degree</td></tr><tr><td>35</td><td>Male</td><td>Master's Degree</td></tr><tr><td>35</td><td>Male</td><td>Master's Degree</td></tr><tr><td>61</td><td>Male</td><td>Master's Degree</td></tr><tr><td>43</td><td>Male</td><td>Bachelor's Degree</td></tr><tr><td>45</td><td>Male</td><td>Master's Degree</td></tr><tr><td>48</td><td>Male</td><td>Bachelor's Degree</td></tr><tr><td>50</td><td>Male</td><td>Bachelor's Degree</td></tr><tr><td>23</td><td>Male</td><td>Master's Degree</td></tr><tr><td>55</td><td>Male</td><td>Master's Degree</td></tr><tr><td>21</td><td>Female</td><td>Master's Degree</td></tr><tr><td>51</td><td>Male</td><td>Bachelor's Degree</td></tr><tr><td>42</td><td>Male</td><td>Master's Degree</td></tr><tr><td>19</td><td>Female</td><td>Bachelor's Degree</td></tr><tr><td>50</td><td>Male</td><td>Bachelor's Degree</td></tr><tr><td>26</td><td>Male</td><td>Master's Degree</td></tr><tr><td>58</td><td>Male</td><td>Bachelor's Degree</td></tr><tr><td>26</td><td>Female</td><td>Master's Degree</td></tr><tr><td>56</td><td>Male</td><td>Master's Degree</td></tr><tr><td>50</td><td>Female</td><td>Master's Degree</td></tr><tr><td>19</td><td>Female</td><td>Bachelor's Degree</td></tr><tr><td>27</td><td>Female</td><td>Bachelor's Degree</td></tr><tr><td>34</td><td>Male</td><td>Master's Degree</td></tr><tr><td>26</td><td>Male</td><td>Bachelor's Degree</td></tr><tr><td>53</td><td>Male</td><td>Bachelor's Degree</td></tr><tr><td>25</td><td>Male</td><td>Master's Degree</td></tr><tr><td>73</td><td>Female</td><td>Master's Degree</td></tr><tr><td>45</td><td>Female</td><td>Bachelor's Degree</td></tr><tr><td>23</td><td>Female</td><td>Bachelor's Degree</td></tr><tr><td>22</td><td>Male</td><td>Bachelor's Degree</td></tr><tr><td>51</td><td>Male</td><td>Bachelor's Degree</td></tr><tr><td>24</td><td>Female</td><td>Bachelor's Degree</td></tr><tr><td>25</td><td>Male</td><td>Master's Degree</td></tr><tr><td>46</td><td>Female</td><td>Bachelor's Degree</td></tr><tr><td>49</td><td>Male</td><td>High School Graduate</td></tr><tr><td>47</td><td>Male</td><td>Master's Degree</td></tr><tr><td>51</td><td>Male</td><td>Master's Degree</td></tr><tr><td>43</td><td>Female</td><td>Bachelor's Degree</td></tr><tr><td>50</td><td>Male</td><td>Bachelor's Degree</td></tr><tr><td>23</td><td>Male</td><td>Master's Degree</td></tr><tr><td>25</td><td>Male</td><td>Bachelor's Degree</td></tr><tr><td>24</td><td>Male</td><td>Bachelor's Degree</td></tr><tr><td>24</td><td>Male</td><td>Bachelor's Degree</td></tr><tr><td>47</td><td>Male</td><td>Master's Degree</td></tr><tr><td>20</td><td>Female</td><td>Master's Degree</td></tr><tr><td>53</td><td>Male</td><td>Bachelor's Degree</td></tr><tr><td>27</td><td>Male</td><td>Bachelor's Degree</td></tr><tr><td>52</td><td>Male</td><td>Bachelor's Degree</td></tr><tr><td>57</td><td>Male</td><td>Bachelor's Degree</td></tr><tr><td>49</td><td>Male</td><td>Bachelor's Degree</td></tr><tr><td>49</td><td>Male</td><td>Bachelor's Degree</td></tr><tr><td>25</td><td>Female</td><td>Master's Degree</td></tr><tr><td>50</td><td>Male</td><td>High School Graduate</td></tr><tr><td>24</td><td>Male</td><td>Master's Degree</td></tr><tr><td>24</td><td>Female</td><td>Master's Degree</td></tr><tr><td>60</td><td>Male</td><td>Bachelor's Degree</td></tr><tr><td>50</td><td>Male</td><td>Master's Degree</td></tr><tr><td>55</td><td>Male</td><td>Bachelor's Degree</td></tr><tr><td>23</td><td>Male</td><td>Master's Degree</td></tr><tr><td>28</td><td>Male</td><td>Bachelor's Degree</td></tr><tr><td>57</td><td>Male</td><td>Bachelor's Degree</td></tr><tr><td>55</td><td>Male</td><td>Master's Degree</td></tr><tr><td>25</td><td>Male</td><td>Bachelor's Degree</td></tr><tr><td>24</td><td>Male</td><td>Bachelor's Degree</td></tr><tr><td>24</td><td>Male</td><td>Bachelor's Degree</td></tr><tr><td>25</td><td>Female</td><td>Bachelor's Degree</td></tr><tr><td>23</td><td>Female</td><td>Master's Degree</td></tr><tr><td>22</td><td>Male</td><td>Master's Degree</td></tr><tr><td>50</td><td>Male</td><td>Master's Degree</td></tr><tr><td>32</td><td>Male</td><td>Master's Degree</td></tr><tr><td>26</td><td>Male</td><td>Master's Degree</td></tr><tr><td>53</td><td>Male</td><td>Master's Degree</td></tr><tr><td>63</td><td>Male</td><td>Doctorate</td></tr><tr><td>58</td><td>Male</td><td>Doctorate</td></tr><tr><td>46</td><td>Male</td><td>Bachelor's Degree</td></tr><tr><td>46</td><td>Female</td><td>Bachelor's Degree</td></tr><tr><td>58</td><td>Male</td><td>Doctorate</td></tr><tr><td>49</td><td>Male</td><td>Master's Degree</td></tr><tr><td>41</td><td>Male</td><td>Bachelor's Degree</td></tr><tr><td>62</td><td>Male</td><td>Bachelor's Degree</td></tr><tr><td>43</td><td>Male</td><td>Bachelor's Degree</td></tr><tr><td>54</td><td>Male</td><td>Bachelor's Degree</td></tr><tr><td>24</td><td>Female</td><td>Master's Degree</td></tr><tr><td>34</td><td>Male</td><td>Master's Degree</td></tr><tr><td>27</td><td>Male</td><td>High School Graduate</td></tr><tr><td>45</td><td>Male</td><td>High School Graduate</td></tr><tr><td>22</td><td>Male</td><td>Master's Degree</td></tr><tr><td>53</td><td>Male</td><td>Master's Degree</td></tr><tr><td>51</td><td>Male</td><td>Doctorate</td></tr><tr><td>38</td><td>Female</td><td>Master's Degree</td></tr><tr><td>25</td><td>Male</td><td>Bachelor's Degree</td></tr><tr><td>46</td><td>Male</td><td>Master's Degree</td></tr><tr><td>58</td><td>Female</td><td>High School Graduate</td></tr><tr><td>24</td><td>Female</td><td>Bachelor's Degree</td></tr></tbody></table></div>"
      ]
     },
     "metadata": {
      "application/vnd.databricks.v1+output": {
       "addedWidgets": {},
       "aggData": [],
       "aggError": "",
       "aggOverflow": false,
       "aggSchema": [],
       "aggSeriesLimitReached": false,
       "aggType": "",
       "arguments": {},
       "columnCustomDisplayInfos": {},
       "data": [
        [
         "25",
         "Female",
         "Bachelor's Degree"
        ],
        [
         "48",
         "Female",
         "Bachelor's Degree"
        ],
        [
         "49",
         "Male",
         "Master's Degree"
        ],
        [
         "38",
         "Male",
         "Bachelor's Degree"
        ],
        [
         "45",
         "Male",
         "Bachelor's Degree"
        ],
        [
         "45",
         "Female",
         "Bachelor's Degree"
        ],
        [
         "47",
         "Male",
         "Doctorate"
        ],
        [
         "55",
         "Female",
         "Bachelor's Degree"
        ],
        [
         "49",
         "Male",
         "Master's Degree"
        ],
        [
         "41",
         "Male",
         "Master's Degree"
        ],
        [
         "34",
         "Male",
         "Master's Degree"
        ],
        [
         "43",
         "Male",
         "Bachelor's Degree"
        ],
        [
         "41",
         "Male",
         "Bachelor's Degree"
        ],
        [
         "62",
         "Male",
         "Master's Degree"
        ],
        [
         "35",
         "Male",
         "Master's Degree"
        ],
        [
         "35",
         "Male",
         "Master's Degree"
        ],
        [
         "61",
         "Male",
         "Master's Degree"
        ],
        [
         "43",
         "Male",
         "Bachelor's Degree"
        ],
        [
         "45",
         "Male",
         "Master's Degree"
        ],
        [
         "48",
         "Male",
         "Bachelor's Degree"
        ],
        [
         "50",
         "Male",
         "Bachelor's Degree"
        ],
        [
         "23",
         "Male",
         "Master's Degree"
        ],
        [
         "55",
         "Male",
         "Master's Degree"
        ],
        [
         "21",
         "Female",
         "Master's Degree"
        ],
        [
         "51",
         "Male",
         "Bachelor's Degree"
        ],
        [
         "42",
         "Male",
         "Master's Degree"
        ],
        [
         "19",
         "Female",
         "Bachelor's Degree"
        ],
        [
         "50",
         "Male",
         "Bachelor's Degree"
        ],
        [
         "26",
         "Male",
         "Master's Degree"
        ],
        [
         "58",
         "Male",
         "Bachelor's Degree"
        ],
        [
         "26",
         "Female",
         "Master's Degree"
        ],
        [
         "56",
         "Male",
         "Master's Degree"
        ],
        [
         "50",
         "Female",
         "Master's Degree"
        ],
        [
         "19",
         "Female",
         "Bachelor's Degree"
        ],
        [
         "27",
         "Female",
         "Bachelor's Degree"
        ],
        [
         "34",
         "Male",
         "Master's Degree"
        ],
        [
         "26",
         "Male",
         "Bachelor's Degree"
        ],
        [
         "53",
         "Male",
         "Bachelor's Degree"
        ],
        [
         "25",
         "Male",
         "Master's Degree"
        ],
        [
         "73",
         "Female",
         "Master's Degree"
        ],
        [
         "45",
         "Female",
         "Bachelor's Degree"
        ],
        [
         "23",
         "Female",
         "Bachelor's Degree"
        ],
        [
         "22",
         "Male",
         "Bachelor's Degree"
        ],
        [
         "51",
         "Male",
         "Bachelor's Degree"
        ],
        [
         "24",
         "Female",
         "Bachelor's Degree"
        ],
        [
         "25",
         "Male",
         "Master's Degree"
        ],
        [
         "46",
         "Female",
         "Bachelor's Degree"
        ],
        [
         "49",
         "Male",
         "High School Graduate"
        ],
        [
         "47",
         "Male",
         "Master's Degree"
        ],
        [
         "51",
         "Male",
         "Master's Degree"
        ],
        [
         "43",
         "Female",
         "Bachelor's Degree"
        ],
        [
         "50",
         "Male",
         "Bachelor's Degree"
        ],
        [
         "23",
         "Male",
         "Master's Degree"
        ],
        [
         "25",
         "Male",
         "Bachelor's Degree"
        ],
        [
         "24",
         "Male",
         "Bachelor's Degree"
        ],
        [
         "24",
         "Male",
         "Bachelor's Degree"
        ],
        [
         "47",
         "Male",
         "Master's Degree"
        ],
        [
         "20",
         "Female",
         "Master's Degree"
        ],
        [
         "53",
         "Male",
         "Bachelor's Degree"
        ],
        [
         "27",
         "Male",
         "Bachelor's Degree"
        ],
        [
         "52",
         "Male",
         "Bachelor's Degree"
        ],
        [
         "57",
         "Male",
         "Bachelor's Degree"
        ],
        [
         "49",
         "Male",
         "Bachelor's Degree"
        ],
        [
         "49",
         "Male",
         "Bachelor's Degree"
        ],
        [
         "25",
         "Female",
         "Master's Degree"
        ],
        [
         "50",
         "Male",
         "High School Graduate"
        ],
        [
         "24",
         "Male",
         "Master's Degree"
        ],
        [
         "24",
         "Female",
         "Master's Degree"
        ],
        [
         "60",
         "Male",
         "Bachelor's Degree"
        ],
        [
         "50",
         "Male",
         "Master's Degree"
        ],
        [
         "55",
         "Male",
         "Bachelor's Degree"
        ],
        [
         "23",
         "Male",
         "Master's Degree"
        ],
        [
         "28",
         "Male",
         "Bachelor's Degree"
        ],
        [
         "57",
         "Male",
         "Bachelor's Degree"
        ],
        [
         "55",
         "Male",
         "Master's Degree"
        ],
        [
         "25",
         "Male",
         "Bachelor's Degree"
        ],
        [
         "24",
         "Male",
         "Bachelor's Degree"
        ],
        [
         "24",
         "Male",
         "Bachelor's Degree"
        ],
        [
         "25",
         "Female",
         "Bachelor's Degree"
        ],
        [
         "23",
         "Female",
         "Master's Degree"
        ],
        [
         "22",
         "Male",
         "Master's Degree"
        ],
        [
         "50",
         "Male",
         "Master's Degree"
        ],
        [
         "32",
         "Male",
         "Master's Degree"
        ],
        [
         "26",
         "Male",
         "Master's Degree"
        ],
        [
         "53",
         "Male",
         "Master's Degree"
        ],
        [
         "63",
         "Male",
         "Doctorate"
        ],
        [
         "58",
         "Male",
         "Doctorate"
        ],
        [
         "46",
         "Male",
         "Bachelor's Degree"
        ],
        [
         "46",
         "Female",
         "Bachelor's Degree"
        ],
        [
         "58",
         "Male",
         "Doctorate"
        ],
        [
         "49",
         "Male",
         "Master's Degree"
        ],
        [
         "41",
         "Male",
         "Bachelor's Degree"
        ],
        [
         "62",
         "Male",
         "Bachelor's Degree"
        ],
        [
         "43",
         "Male",
         "Bachelor's Degree"
        ],
        [
         "54",
         "Male",
         "Bachelor's Degree"
        ],
        [
         "24",
         "Female",
         "Master's Degree"
        ],
        [
         "34",
         "Male",
         "Master's Degree"
        ],
        [
         "27",
         "Male",
         "High School Graduate"
        ],
        [
         "45",
         "Male",
         "High School Graduate"
        ],
        [
         "22",
         "Male",
         "Master's Degree"
        ],
        [
         "53",
         "Male",
         "Master's Degree"
        ],
        [
         "51",
         "Male",
         "Doctorate"
        ],
        [
         "38",
         "Female",
         "Master's Degree"
        ],
        [
         "25",
         "Male",
         "Bachelor's Degree"
        ],
        [
         "46",
         "Male",
         "Master's Degree"
        ],
        [
         "58",
         "Female",
         "High School Graduate"
        ],
        [
         "24",
         "Female",
         "Bachelor's Degree"
        ]
       ],
       "datasetInfos": [],
       "dbfsResultPath": null,
       "isJsonSchema": true,
       "metadata": {
        "isDbfsCommandResult": false
       },
       "overflow": false,
       "plotOptions": {
        "customPlotOptions": {},
        "displayType": "table",
        "pivotAggregation": null,
        "pivotColumns": null,
        "xColumns": null,
        "yColumns": null
       },
       "removedWidgets": [],
       "schema": [
        {
         "metadata": "{}",
         "name": "age",
         "type": "\"string\""
        },
        {
         "metadata": "{}",
         "name": "gender",
         "type": "\"string\""
        },
        {
         "metadata": "{}",
         "name": "EducationLevel",
         "type": "\"string\""
        }
       ],
       "type": "table"
      }
     },
     "output_type": "display_data"
    }
   ],
   "source": [
    "%sql\n",
    "SELECT\n",
    "  age,\n",
    "  gender,\n",
    "  EducationLevel\n",
    "FROM tb_survey"
   ]
  },
  {
   "cell_type": "markdown",
   "metadata": {
    "application/vnd.databricks.v1+cell": {
     "cellMetadata": {
      "byteLimit": 2048000,
      "rowLimit": 10000
     },
     "inputWidgets": {},
     "nuid": "7108426d-dad6-4151-84a1-ea994030af52",
     "showTitle": false,
     "title": ""
    }
   },
   "source": [
    "### Faixa Etária\n",
    "A maioria dos respondentes (35%) está na faixa etária entre 18 e 29 anos, seguida de perto por indivíduos com 50 anos ou mais (32%)."
   ]
  },
  {
   "cell_type": "code",
   "execution_count": 0,
   "metadata": {
    "application/vnd.databricks.v1+cell": {
     "cellMetadata": {
      "byteLimit": 2048000,
      "rowLimit": 10000
     },
     "inputWidgets": {},
     "nuid": "579c771e-df98-4175-8022-45f8cf9987ae",
     "showTitle": false,
     "title": ""
    }
   },
   "outputs": [
    {
     "output_type": "display_data",
     "data": {
      "text/html": [
       "<style scoped>\n",
       "  .table-result-container {\n",
       "    max-height: 300px;\n",
       "    overflow: auto;\n",
       "  }\n",
       "  table, th, td {\n",
       "    border: 1px solid black;\n",
       "    border-collapse: collapse;\n",
       "  }\n",
       "  th, td {\n",
       "    padding: 5px;\n",
       "  }\n",
       "  th {\n",
       "    text-align: left;\n",
       "  }\n",
       "</style><div class='table-result-container'><table class='table-result'><thead style='background-color: white'><tr><th>AgeGroup</th><th>contagem</th><th>porcentagem</th></tr></thead><tbody><tr><td>Entre 18 e 29 anos</td><td>37</td><td>0.35</td></tr><tr><td>50 anos ou mais</td><td>34</td><td>0.32</td></tr><tr><td>Entre 40 e 49 anos</td><td>28</td><td>0.26</td></tr><tr><td>Entre 30 e 39 anos</td><td>8</td><td>0.07</td></tr></tbody></table></div>"
      ]
     },
     "metadata": {
      "application/vnd.databricks.v1+output": {
       "addedWidgets": {},
       "aggData": [],
       "aggError": "",
       "aggOverflow": false,
       "aggSchema": [],
       "aggSeriesLimitReached": false,
       "aggType": "",
       "arguments": {},
       "columnCustomDisplayInfos": {},
       "data": [
        [
         "Entre 18 e 29 anos",
         37,
         0.35
        ],
        [
         "50 anos ou mais",
         34,
         0.32
        ],
        [
         "Entre 40 e 49 anos",
         28,
         0.26
        ],
        [
         "Entre 30 e 39 anos",
         8,
         0.07
        ]
       ],
       "datasetInfos": [],
       "dbfsResultPath": null,
       "isJsonSchema": true,
       "metadata": {
        "isDbfsCommandResult": false
       },
       "overflow": false,
       "plotOptions": {
        "customPlotOptions": {},
        "displayType": "table",
        "pivotAggregation": null,
        "pivotColumns": null,
        "xColumns": null,
        "yColumns": null
       },
       "removedWidgets": [],
       "schema": [
        {
         "metadata": "{}",
         "name": "AgeGroup",
         "type": "\"string\""
        },
        {
         "metadata": "{}",
         "name": "contagem",
         "type": "\"long\""
        },
        {
         "metadata": "{}",
         "name": "porcentagem",
         "type": "\"double\""
        }
       ],
       "type": "table"
      }
     },
     "output_type": "display_data"
    }
   ],
   "source": [
    "%sql\n",
    "SELECT AgeGroup, COUNT(*) as contagem,\n",
    "       ROUND ( ((COUNT(*)) / (SELECT COUNT(*) FROM tb_survey)), 2 ) as porcentagem\n",
    "  FROM (\n",
    "      SELECT Age,\n",
    "            CASE\n",
    "                WHEN Age < 18 THEN 'Menor de 18'\n",
    "                WHEN Age >= 18 AND Age < 30 THEN 'Entre 18 e 29 anos'\n",
    "                WHEN Age >= 30 AND Age < 40 THEN 'Entre 30 e 39 anos'\n",
    "                WHEN Age >= 40 AND Age < 50 THEN 'Entre 40 e 49 anos'\n",
    "                ELSE '50 anos ou mais'\n",
    "            END AS AgeGroup\n",
    "      FROM tb_survey\n",
    "  ) AS AgeGroups\n",
    "GROUP BY AgeGroup\n",
    "ORDER BY porcentagem DESC"
   ]
  },
  {
   "cell_type": "markdown",
   "metadata": {
    "application/vnd.databricks.v1+cell": {
     "cellMetadata": {
      "byteLimit": 2048000,
      "rowLimit": 10000
     },
     "inputWidgets": {},
     "nuid": "b904228e-6442-4a4f-8a78-b8873efa1bb5",
     "showTitle": false,
     "title": ""
    }
   },
   "source": [
    "### Renda familiar\n",
    "A análise das categorias de renda familiar revela que a maioria dos respondentes está classificada como \"Alta renda\" (29%) e \"Média renda\" (26%). Esses dados podem indicar que a pesquisa tende a atrair pessoas com maior poder aquisitivo, o que pode influenciar nas percepções e comportamentos relacionados à adoção de tecnologia."
   ]
  },
  {
   "cell_type": "code",
   "execution_count": 0,
   "metadata": {
    "application/vnd.databricks.v1+cell": {
     "cellMetadata": {
      "byteLimit": 2048000,
      "rowLimit": 10000
     },
     "inputWidgets": {},
     "nuid": "40ff1874-d1c3-4120-8c83-b8c355a9834e",
     "showTitle": false,
     "title": ""
    }
   },
   "outputs": [
    {
     "output_type": "display_data",
     "data": {
      "text/html": [
       "<style scoped>\n",
       "  .table-result-container {\n",
       "    max-height: 300px;\n",
       "    overflow: auto;\n",
       "  }\n",
       "  table, th, td {\n",
       "    border: 1px solid black;\n",
       "    border-collapse: collapse;\n",
       "  }\n",
       "  th, td {\n",
       "    padding: 5px;\n",
       "  }\n",
       "  th {\n",
       "    text-align: left;\n",
       "  }\n",
       "</style><div class='table-result-container'><table class='table-result'><thead style='background-color: white'><tr><th>HouseholdIncomeGroup</th><th>contagem</th><th>porcentagem</th></tr></thead><tbody><tr><td>Alta renda</td><td>31</td><td>0.29</td></tr><tr><td>Média renda</td><td>28</td><td>0.26</td></tr><tr><td>Média baixa renda</td><td>25</td><td>0.23</td></tr><tr><td>Média alta renda</td><td>13</td><td>0.12</td></tr><tr><td>Baixa renda</td><td>10</td><td>0.09</td></tr></tbody></table></div>"
      ]
     },
     "metadata": {
      "application/vnd.databricks.v1+output": {
       "addedWidgets": {},
       "aggData": [],
       "aggError": "",
       "aggOverflow": false,
       "aggSchema": [],
       "aggSeriesLimitReached": false,
       "aggType": "",
       "arguments": {},
       "columnCustomDisplayInfos": {},
       "data": [
        [
         "Alta renda",
         31,
         0.29
        ],
        [
         "Média renda",
         28,
         0.26
        ],
        [
         "Média baixa renda",
         25,
         0.23
        ],
        [
         "Média alta renda",
         13,
         0.12
        ],
        [
         "Baixa renda",
         10,
         0.09
        ]
       ],
       "datasetInfos": [],
       "dbfsResultPath": null,
       "isJsonSchema": true,
       "metadata": {
        "isDbfsCommandResult": false
       },
       "overflow": false,
       "plotOptions": {
        "customPlotOptions": {},
        "displayType": "table",
        "pivotAggregation": null,
        "pivotColumns": null,
        "xColumns": null,
        "yColumns": null
       },
       "removedWidgets": [],
       "schema": [
        {
         "metadata": "{}",
         "name": "HouseholdIncomeGroup",
         "type": "\"string\""
        },
        {
         "metadata": "{}",
         "name": "contagem",
         "type": "\"long\""
        },
        {
         "metadata": "{}",
         "name": "porcentagem",
         "type": "\"double\""
        }
       ],
       "type": "table"
      }
     },
     "output_type": "display_data"
    }
   ],
   "source": [
    "%sql\n",
    "SELECT HouseholdIncomeGroup, COUNT (*) as contagem,\n",
    "        ROUND( ((COUNT(*)) / (SELECT COUNT(*) FROM tb_survey)), 2 ) as porcentagem\n",
    "  FROM (\n",
    "    SELECT HouseholdIncome,\n",
    "        CASE\n",
    "           WHEN HouseholdIncome < 200000 THEN 'Baixa renda'\n",
    "           WHEN HouseholdIncome >= 200000 AND HouseholdIncome < 600000 THEN 'Média baixa renda'\n",
    "           WHEN HouseholdIncome >= 600000  AND HouseholdIncome < 1200000 THEN 'Média renda'\n",
    "           WHEN HouseholdIncome >= 1200000  AND HouseholdIncome < 2000000 THEN 'Média alta renda'\n",
    "           ELSE 'Alta renda'\n",
    "        END AS HouseholdIncomeGroup\n",
    "      FROM tb_survey\n",
    "  ) AS HouseholdIncomeGroups\n",
    "GROUP BY HouseholdIncomeGroup\n",
    "ORDER BY porcentagem DESC"
   ]
  },
  {
   "cell_type": "markdown",
   "metadata": {
    "application/vnd.databricks.v1+cell": {
     "cellMetadata": {
      "byteLimit": 2048000,
      "rowLimit": 10000
     },
     "inputWidgets": {},
     "nuid": "929e81ee-da55-44d8-a0c7-9d37a6398d8f",
     "showTitle": false,
     "title": ""
    }
   },
   "source": [
    "### Nível de Escolaridade\n",
    "A análise dos níveis de escolaridade dos respondentes revela que a grande maioria possui um diploma de bacharelado (49%) ou mestrado (42%)."
   ]
  },
  {
   "cell_type": "code",
   "execution_count": 0,
   "metadata": {
    "application/vnd.databricks.v1+cell": {
     "cellMetadata": {
      "byteLimit": 2048000,
      "rowLimit": 10000
     },
     "inputWidgets": {},
     "nuid": "851c65b1-dcc4-401a-9acc-4bb06f9b9bfc",
     "showTitle": false,
     "title": ""
    }
   },
   "outputs": [
    {
     "output_type": "display_data",
     "data": {
      "text/html": [
       "<style scoped>\n",
       "  .table-result-container {\n",
       "    max-height: 300px;\n",
       "    overflow: auto;\n",
       "  }\n",
       "  table, th, td {\n",
       "    border: 1px solid black;\n",
       "    border-collapse: collapse;\n",
       "  }\n",
       "  th, td {\n",
       "    padding: 5px;\n",
       "  }\n",
       "  th {\n",
       "    text-align: left;\n",
       "  }\n",
       "</style><div class='table-result-container'><table class='table-result'><thead style='background-color: white'><tr><th>EducationLevel</th><th>contagem</th><th>porcentagem</th></tr></thead><tbody><tr><td>Bachelor's Degree</td><td>52</td><td>0.49</td></tr><tr><td>Master's Degree</td><td>45</td><td>0.42</td></tr><tr><td>Doctorate</td><td>5</td><td>0.05</td></tr><tr><td>High School Graduate</td><td>5</td><td>0.05</td></tr></tbody></table></div>"
      ]
     },
     "metadata": {
      "application/vnd.databricks.v1+output": {
       "addedWidgets": {},
       "aggData": [],
       "aggError": "",
       "aggOverflow": false,
       "aggSchema": [],
       "aggSeriesLimitReached": false,
       "aggType": "",
       "arguments": {},
       "columnCustomDisplayInfos": {},
       "data": [
        [
         "Bachelor's Degree",
         52,
         0.49
        ],
        [
         "Master's Degree",
         45,
         0.42
        ],
        [
         "Doctorate",
         5,
         0.05
        ],
        [
         "High School Graduate",
         5,
         0.05
        ]
       ],
       "datasetInfos": [],
       "dbfsResultPath": null,
       "isJsonSchema": true,
       "metadata": {
        "isDbfsCommandResult": false
       },
       "overflow": false,
       "plotOptions": {
        "customPlotOptions": {},
        "displayType": "table",
        "pivotAggregation": null,
        "pivotColumns": null,
        "xColumns": null,
        "yColumns": null
       },
       "removedWidgets": [],
       "schema": [
        {
         "metadata": "{}",
         "name": "EducationLevel",
         "type": "\"string\""
        },
        {
         "metadata": "{}",
         "name": "contagem",
         "type": "\"long\""
        },
        {
         "metadata": "{}",
         "name": "porcentagem",
         "type": "\"double\""
        }
       ],
       "type": "table"
      }
     },
     "output_type": "display_data"
    }
   ],
   "source": [
    "%sql\n",
    "SELECT EducationLevel, COUNT(*) as contagem,\n",
    "       ROUND( ((COUNT(*)) / (SELECT COUNT(*) FROM tb_survey)), 2) as porcentagem\n",
    "FROM tb_survey\n",
    "GROUP BY EducationLevel\n",
    "ORDER BY porcentagem DESC"
   ]
  },
  {
   "cell_type": "markdown",
   "metadata": {
    "application/vnd.databricks.v1+cell": {
     "cellMetadata": {
      "byteLimit": 2048000,
      "rowLimit": 10000
     },
     "inputWidgets": {},
     "nuid": "2fd2e7d3-581d-435a-be48-b1631fb49a9b",
     "showTitle": false,
     "title": ""
    }
   },
   "source": [
    "### Gênero\n",
    "A representação de gênero na pesquisa não pode ser considerada equilibrada, pois apresenta uma maior proporção de respondentes do sexo masculino (76%) em relação ao sexo feminino (24%). Isso indica uma disparidade significativa na representatividade dos gêneros na amostra coletada. Essa desigualdade pode introduzir possíveis vieses nos resultados da pesquisa, uma vez que as percepções e comportamentos em relação à adoção de tecnologia podem variar entre diferentes grupos de gênero."
   ]
  },
  {
   "cell_type": "code",
   "execution_count": 0,
   "metadata": {
    "application/vnd.databricks.v1+cell": {
     "cellMetadata": {
      "byteLimit": 2048000,
      "rowLimit": 10000
     },
     "inputWidgets": {},
     "nuid": "93bcfadf-8259-48a4-85f3-fcf8042aa24c",
     "showTitle": false,
     "title": ""
    }
   },
   "outputs": [
    {
     "output_type": "display_data",
     "data": {
      "text/html": [
       "<style scoped>\n",
       "  .table-result-container {\n",
       "    max-height: 300px;\n",
       "    overflow: auto;\n",
       "  }\n",
       "  table, th, td {\n",
       "    border: 1px solid black;\n",
       "    border-collapse: collapse;\n",
       "  }\n",
       "  th, td {\n",
       "    padding: 5px;\n",
       "  }\n",
       "  th {\n",
       "    text-align: left;\n",
       "  }\n",
       "</style><div class='table-result-container'><table class='table-result'><thead style='background-color: white'><tr><th>Gender</th><th>contagem</th><th>porcentagem</th></tr></thead><tbody><tr><td>Male</td><td>81</td><td>0.76</td></tr><tr><td>Female</td><td>26</td><td>0.24</td></tr></tbody></table></div>"
      ]
     },
     "metadata": {
      "application/vnd.databricks.v1+output": {
       "addedWidgets": {},
       "aggData": [],
       "aggError": "",
       "aggOverflow": false,
       "aggSchema": [],
       "aggSeriesLimitReached": false,
       "aggType": "",
       "arguments": {},
       "columnCustomDisplayInfos": {},
       "data": [
        [
         "Male",
         81,
         0.76
        ],
        [
         "Female",
         26,
         0.24
        ]
       ],
       "datasetInfos": [],
       "dbfsResultPath": null,
       "isJsonSchema": true,
       "metadata": {
        "isDbfsCommandResult": false
       },
       "overflow": false,
       "plotOptions": {
        "customPlotOptions": {},
        "displayType": "table",
        "pivotAggregation": null,
        "pivotColumns": null,
        "xColumns": null,
        "yColumns": null
       },
       "removedWidgets": [],
       "schema": [
        {
         "metadata": "{}",
         "name": "Gender",
         "type": "\"string\""
        },
        {
         "metadata": "{}",
         "name": "contagem",
         "type": "\"long\""
        },
        {
         "metadata": "{}",
         "name": "porcentagem",
         "type": "\"double\""
        }
       ],
       "type": "table"
      }
     },
     "output_type": "display_data"
    }
   ],
   "source": [
    "%sql\n",
    "SELECT Gender, COUNT(*) as contagem,\n",
    "       ROUND( ((COUNT(*)) / (SELECT COUNT(*) FROM tb_survey)), 2 ) AS porcentagem\n",
    "FROM tb_survey\n",
    "GROUP BY Gender\n",
    "ORDER BY porcentagem DESC"
   ]
  },
  {
   "cell_type": "markdown",
   "metadata": {
    "application/vnd.databricks.v1+cell": {
     "cellMetadata": {
      "byteLimit": 2048000,
      "rowLimit": 10000
     },
     "inputWidgets": {},
     "nuid": "b9681c72-2c48-4b2b-a427-32f7052b1d6a",
     "showTitle": false,
     "title": ""
    }
   },
   "source": [
    "### Conclusão da Análise Demográfica\n",
    "Com base na análise demográfica dos respondentes da pesquisa, podemos concluir que o perfil principal do participante é de um indivíduo do sexo masculino, com idade entre 18 e 29 anos, com formação acadêmica em bacharelado ou mestrado, e pertencente a uma faixa de renda familiar alta ou média. Essa predominância pode influenciar as respostas e percepções coletadas na pesquisa, levando em consideração que os respondentes representam principalmente indivíduos mais jovens, com maior nível educacional e poder aquisitivo. Esses fatores devem ser considerados ao interpretar os resultados da pesquisa e ao aplicar suas conclusões para análises mais amplas"
   ]
  }
 ],
 "metadata": {
  "application/vnd.databricks.v1+notebook": {
   "dashboards": [],
   "language": "python",
   "notebookMetadata": {
    "mostRecentlyExecutedCommandWithImplicitDF": {
     "commandId": -1,
     "dataframes": [
      "_sqldf"
     ]
    },
    "pythonIndentUnit": 4
   },
   "notebookName": "analisa_exploratoria",
   "widgets": {}
  }
 },
 "nbformat": 4,
 "nbformat_minor": 0
}
